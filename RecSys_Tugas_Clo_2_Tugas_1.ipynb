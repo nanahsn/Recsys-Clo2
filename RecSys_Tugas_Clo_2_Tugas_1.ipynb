{
  "nbformat": 4,
  "nbformat_minor": 0,
  "metadata": {
    "colab": {
      "provenance": []
    },
    "kernelspec": {
      "name": "python3",
      "display_name": "Python 3"
    },
    "language_info": {
      "name": "python"
    }
  },
  "cells": [
    {
      "cell_type": "markdown",
      "source": [
        "# KELOMPOK 10\n",
        "RecSys Tugas Clo 2:\n",
        "1. Audry Jesica Putri - 1301204119\n",
        "2. Siti Uswah Hasanah - 1301204019\n",
        "3. Surya Abadi - 1301204175\n",
        "4. Ummu Husnul Khatimah - 1301204120\n"
      ],
      "metadata": {
        "id": "VaJIihYUi6hT"
      }
    },
    {
      "cell_type": "code",
      "source": [
        "import pandas as pd\n",
        "import numpy as np\n",
        "from sklearn.metrics.pairwise import cosine_similarity\n",
        "from sklearn.metrics.pairwise import pairwise_distances\n",
        "from sklearn.metrics import mean_squared_error\n",
        "from math import sqrt"
      ],
      "metadata": {
        "id": "GA7Ala0ejdqz"
      },
      "execution_count": null,
      "outputs": []
    },
    {
      "cell_type": "code",
      "execution_count": null,
      "metadata": {
        "id": "ot2TXueviwT-",
        "colab": {
          "base_uri": "https://localhost:8080/"
        },
        "outputId": "fc16e6ba-c397-419f-8b6f-db716984ae72"
      },
      "outputs": [
        {
          "output_type": "stream",
          "name": "stdout",
          "text": [
            "User    Alice  User1  User2  User3  User4\n",
            "Item                                     \n",
            "Item_1    5.0    3.0    4.0    3.0    1.0\n",
            "Item_2    3.0    1.0    3.0    3.0    5.0\n",
            "Item_3    4.0    2.0    4.0    1.0    5.0\n",
            "Item_4    4.0    3.0    3.0    5.0    2.0\n",
            "Item_5    0.0    3.0    5.0    4.0    1.0\n"
          ]
        }
      ],
      "source": [
        "#mendefinisikan sample data\n",
        "data = [['Alice', 'Item_1', 5], ['Alice', 'Item_2', 3], ['Alice', 'Item_3', 4],['Alice', 'Item_4', 4],\n",
        "        ['User1', 'Item_1', 3], ['User1', 'Item_2', 1], ['User1', 'Item_3', 2], ['User1', 'Item_4', 3], ['User1', 'Item_5', 3],\n",
        "        ['User2', 'Item_1', 4], ['User2', 'Item_2', 3], ['User2', 'Item_3', 4], ['User2', 'Item_4', 3], ['User2', 'Item_5', 5],\n",
        "        ['User3', 'Item_1', 3], ['User3', 'Item_2', 3], ['User3', 'Item_3', 1], ['User3', 'Item_4', 5], ['User3', 'Item_5', 4],\n",
        "        ['User4', 'Item_1', 1], ['User4', 'Item_2', 5], ['User4', 'Item_3', 5], ['User4', 'Item_4', 2], ['User4', 'Item_5', 1]]\n",
        "rating = pd.DataFrame(data, columns=['User', 'Item', 'Rating'])\n",
        "\n",
        "#merubah ke matrix rating\n",
        "rating_matrix = rating.pivot_table(index='User', columns='Item', values='Rating')\n",
        "rating_matrix = rating_matrix.fillna(0).T\n",
        "#T untuk mentransposisi (menukar baris dan kolom) matriks rating.\n",
        "print(rating_matrix)"
      ]
    },
    {
      "cell_type": "markdown",
      "source": [
        "# Item-Based"
      ],
      "metadata": {
        "id": "uGaPaxZa6dC7"
      }
    },
    {
      "cell_type": "code",
      "source": [
        "# Item-based Collaborative Filtering\n",
        "def item_based_cf(rating_matrix, similarity_measure='pearson'):\n",
        "    if similarity_measure == 'pearson':\n",
        "        item_similarity = 1 - pairwise_distances(rating_matrix.T, metric='correlation')\n",
        "    elif similarity_measure == 'cosine':\n",
        "        item_similarity = cosine_similarity(rating_matrix.T)\n",
        "    else:\n",
        "        raise ValueError(\"Unsupported similarity measure\")\n",
        "\n",
        "    return item_similarity\n",
        "def adjusted_cosine_similarity_ibcf(rating_matrix):\n",
        "    # Hitung rata-rata per pengguna\n",
        "    user_means = rating_matrix.mean(axis=1)\n",
        "\n",
        "    # Adjust rating matrix dengan mengurangkan rata-rata per pengguna dari setiap nilai\n",
        "    adjusted_ratings = rating_matrix.sub(user_means, axis=0)\n",
        "\n",
        "    # Hitung similarity dengan cosine similarity\n",
        "    similarity = 1 - pairwise_distances(adjusted_ratings, metric='cosine')\n",
        "\n",
        "    return similarity"
      ],
      "metadata": {
        "id": "HNhcyU4MOrPF"
      },
      "execution_count": null,
      "outputs": []
    },
    {
      "cell_type": "code",
      "source": [
        "item_similarity_pearson = item_based_cf(rating_matrix, similarity_measure='pearson')\n",
        "item_similarity_cosine = item_based_cf(rating_matrix, similarity_measure='cosine')\n",
        "adjusted_cosine_similarity_matrix_ibcf = adjusted_cosine_similarity_ibcf(rating_matrix)"
      ],
      "metadata": {
        "id": "xPvM1JiNXotV"
      },
      "execution_count": null,
      "outputs": []
    },
    {
      "cell_type": "code",
      "source": [
        "print(\"\\nItem Similarity (Pearson):\")\n",
        "print(item_similarity_pearson)\n",
        "print(\"\\nItem Similarity (Cosine):\")\n",
        "print(item_similarity_cosine)\n",
        "print(\"\\nAdjusted Cosine Similarity for IBCF:\")\n",
        "print(adjusted_cosine_similarity_matrix_ibcf)"
      ],
      "metadata": {
        "colab": {
          "base_uri": "https://localhost:8080/"
        },
        "id": "N61MNaV9JqGb",
        "outputId": "de12d235-8bc6-4006-ad73-97d1ba70ae03"
      },
      "execution_count": null,
      "outputs": [
        {
          "output_type": "stream",
          "name": "stdout",
          "text": [
            "\n",
            "Item Similarity (Pearson):\n",
            "[[ 1.         -0.05812382 -0.59030128 -0.28039985  0.20293852]\n",
            " [-0.05812382  1.          0.46770717  0.48995593 -0.9001488 ]\n",
            " [-0.59030128  0.46770717  1.         -0.16116459 -0.46656947]\n",
            " [-0.28039985  0.48995593 -0.16116459  1.         -0.6415029 ]\n",
            " [ 0.20293852 -0.9001488  -0.46656947 -0.6415029   1.        ]]\n",
            "\n",
            "Item Similarity (Cosine):\n",
            "[[1.         0.82686887 0.81016272 0.76277007 0.78954203]\n",
            " [0.82686887 1.         0.95938348 0.9356927  0.63781505]\n",
            " [0.81016272 0.95938348 1.         0.89442719 0.77151675]\n",
            " [0.76277007 0.9356927  0.89442719 1.         0.63831064]\n",
            " [0.78954203 0.63781505 0.77151675 0.63831064 1.        ]]\n",
            "\n",
            "Adjusted Cosine Similarity for IBCF:\n",
            "[[ 1.         -0.47673129 -0.12309149  0.53218116  0.0325128 ]\n",
            " [-0.47673129  1.          0.64549722 -0.31008684 -0.34099717]\n",
            " [-0.12309149  0.64549722  1.         -0.72057669 -0.484248  ]\n",
            " [ 0.53218116 -0.31008684 -0.72057669  1.          0.19032972]\n",
            " [ 0.0325128  -0.34099717 -0.484248    0.19032972  1.        ]]\n"
          ]
        }
      ]
    },
    {
      "cell_type": "markdown",
      "source": [
        "# User-Based"
      ],
      "metadata": {
        "id": "GWL0Z-Ia6g_u"
      }
    },
    {
      "cell_type": "code",
      "source": [
        "# User-based Collaborative Filtering\n",
        "def user_based_cf(rating_matrix, similarity_measure='pearson'):\n",
        "    if similarity_measure == 'pearson':\n",
        "        user_similarity = 1 - pairwise_distances(rating_matrix, metric='correlation')\n",
        "    elif similarity_measure == 'cosine':\n",
        "        user_similarity = cosine_similarity(rating_matrix)\n",
        "    else:\n",
        "        raise ValueError(\"Unsupported similarity measure\")\n",
        "\n",
        "    return user_similarity\n",
        "# Adjusted Cosine Similarity\n",
        "def adjusted_cosine_similarity_ubcf(rating_matrix):\n",
        "    # Hitung rata-rata per item\n",
        "    item_means = rating_matrix.mean(axis=0)\n",
        "\n",
        "    # Adjust rating matrix dengan mengurangkan rata-rata per item dari setiap nilai\n",
        "    adjusted_ratings = rating_matrix.sub(item_means, axis=1)\n",
        "\n",
        "    # Hitung similarity dengan cosine similarity\n",
        "    similarity = 1 - pairwise_distances(adjusted_ratings, metric='cosine')\n",
        "\n",
        "    return similarity"
      ],
      "metadata": {
        "id": "Wb5qc7wCOsMl"
      },
      "execution_count": null,
      "outputs": []
    },
    {
      "cell_type": "code",
      "source": [
        "user_similarity_pearson = user_based_cf(rating_matrix, similarity_measure='pearson')\n",
        "user_similarity_cosine = user_based_cf(rating_matrix, similarity_measure='cosine')\n",
        "adjusted_cosine_similarity_matrix_ubcf = adjusted_cosine_similarity_ubcf(rating_matrix)"
      ],
      "metadata": {
        "id": "yK0jnkCcTAnh"
      },
      "execution_count": null,
      "outputs": []
    },
    {
      "cell_type": "code",
      "source": [
        "print(\"\\nUser Similarity (Pearson):\")\n",
        "print(user_similarity_pearson)\n",
        "print(\"\\nUser Similarity (Cosine):\")\n",
        "print(user_similarity_cosine)\n",
        "print(\"\\nAdjusted Cosine Similarity for UBCF:\")\n",
        "print(adjusted_cosine_similarity_matrix_ubcf)"
      ],
      "metadata": {
        "colab": {
          "base_uri": "https://localhost:8080/"
        },
        "id": "10vu3YSRJzpl",
        "outputId": "d4c6981d-90a9-42e4-9571-847b71b811ff"
      },
      "execution_count": null,
      "outputs": [
        {
          "output_type": "stream",
          "name": "stdout",
          "text": [
            "\n",
            "User Similarity (Pearson):\n",
            "[[ 1.         -0.47673129 -0.12309149  0.53218116  0.0325128 ]\n",
            " [-0.47673129  1.          0.64549722 -0.31008684 -0.34099717]\n",
            " [-0.12309149  0.64549722  1.         -0.72057669 -0.484248  ]\n",
            " [ 0.53218116 -0.31008684 -0.72057669  1.          0.19032972]\n",
            " [ 0.0325128  -0.34099717 -0.484248    0.19032972  1.        ]]\n",
            "\n",
            "User Similarity (Cosine):\n",
            "[[1.         0.78025959 0.81978229 0.94337007 0.7592566 ]\n",
            " [0.78025959 1.         0.94201969 0.84798442 0.67320142]\n",
            " [0.81978229 0.94201969 1.         0.78402509 0.62242512]\n",
            " [0.94337007 0.84798442 0.78402509 1.         0.81152606]\n",
            " [0.7592566  0.67320142 0.62242512 0.81152606 1.        ]]\n",
            "\n",
            "Adjusted Cosine Similarity for UBCF:\n",
            "[[ 1.         -0.73193406 -0.26722306  0.44009488 -0.19817039]\n",
            " [-0.73193406  1.          0.62061503 -0.38492243 -0.48256239]\n",
            " [-0.26722306  0.62061503  1.         -0.71912295 -0.63980987]\n",
            " [ 0.44009488 -0.38492243 -0.71912295  1.         -0.02986874]\n",
            " [-0.19817039 -0.48256239 -0.63980987 -0.02986874  1.        ]]\n"
          ]
        }
      ]
    },
    {
      "cell_type": "markdown",
      "source": [
        "# Prediksi Rating"
      ],
      "metadata": {
        "id": "Q44SkwyLPUAs"
      }
    },
    {
      "cell_type": "code",
      "source": [
        "# Merubah ke matrix rating\n",
        "rating_matrix = rating.pivot_table(index='User', columns='Item', values='Rating')\n",
        "rating_matrix = rating_matrix.fillna(0)"
      ],
      "metadata": {
        "id": "k3SqlgamPa6T"
      },
      "execution_count": null,
      "outputs": []
    },
    {
      "cell_type": "code",
      "source": [
        "# Treshold similarity\n",
        "threshold_similarity = 0.5"
      ],
      "metadata": {
        "id": "1Sw3rq5XQOBI"
      },
      "execution_count": null,
      "outputs": []
    },
    {
      "cell_type": "code",
      "source": [
        "# Membuat fungsi untuk menghitung prediksi rating\n",
        "def predict_rating(user, item, rating_matrix, item_similarity_cosine, threshold_similarity):\n",
        "    if user not in rating_matrix.index or item not in rating_matrix.columns:\n",
        "        return \"User or Item not found in the rating matrix\"\n",
        "\n",
        "    user_ratings = rating_matrix.loc[user]\n",
        "    non_zero_ratings = user_ratings[user_ratings != 0]\n",
        "\n",
        "    if item in non_zero_ratings.index:\n",
        "        return \"Rating for this item is already available\"\n",
        "    weighted_sum = 0\n",
        "    total_similarity = 0\n",
        "\n",
        "    for i in non_zero_ratings.index:\n",
        "        similarity = item_similarity_cosine[rating_matrix.columns.get_loc(item)][rating_matrix.columns.get_loc(i)]\n",
        "        if similarity > threshold_similarity:\n",
        "            weighted_sum += similarity * non_zero_ratings[i]\n",
        "            total_similarity += similarity\n",
        "\n",
        "    if total_similarity == 0:\n",
        "        return \"Cannot make a prediction due to low similarity\"\n",
        "\n",
        "    predicted_rating = weighted_sum / total_similarity\n",
        "    return predicted_rating"
      ],
      "metadata": {
        "id": "ezWc_9AuQQe0"
      },
      "execution_count": null,
      "outputs": []
    },
    {
      "cell_type": "code",
      "source": [
        "# Predict Alice's rating for Item_5 using item-Based Cosine Similarity\n",
        "user = 'Alice'\n",
        "item = 'Item_5'\n",
        "predicted_rating = predict_rating(user, item, rating_matrix, item_similarity_cosine, threshold_similarity)\n",
        "\n",
        "if isinstance(predicted_rating, (int, float)):\n",
        "    print(f'Predicted rating for {item} by {user}: {predicted_rating}')\n",
        "else:\n",
        "    print(predicted_rating)"
      ],
      "metadata": {
        "colab": {
          "base_uri": "https://localhost:8080/"
        },
        "id": "nZKoOYstQSxz",
        "outputId": "3715382d-1424-4c57-80e4-b345abbaee03"
      },
      "execution_count": null,
      "outputs": [
        {
          "output_type": "stream",
          "name": "stdout",
          "text": [
            "Predicted rating for Item_5 by Alice: 4.053478012134915\n"
          ]
        }
      ]
    }
  ]
}